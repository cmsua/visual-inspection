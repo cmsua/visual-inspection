{
 "cells": [
  {
   "cell_type": "code",
   "execution_count": null,
   "metadata": {},
   "outputs": [],
   "source": [
    "# Import necessary libraries\n",
    "import os\n",
    "\n",
    "from PIL import Image\n",
    "import torch\n",
    "import torch.nn as nn\n",
    "from torch.utils.data import DataLoader\n",
    "from torchvision import transforms\n",
    "\n",
    "from data_loading import *\n",
    "from training import *\n",
    "\n",
    "# Set the seed\n",
    "torch.manual_seed(42)\n",
    "\n",
    "# Ensure that all operations are deterministic on GPU (if used) for reproducibility\n",
    "torch.backends.cudnn.deterministic = True\n",
    "torch.backends.cudnn.benchmark = False\n",
    "\n",
    "# Path to the datasets folder\n",
    "DATASET_PATH = '../datasets'\n",
    "\n",
    "device = torch.device('cuda' if torch.cuda.is_available() else 'cpu')\n",
    "device"
   ]
  },
  {
   "cell_type": "code",
   "execution_count": null,
   "metadata": {},
   "outputs": [],
   "source": [
    "# Read in the image\n",
    "image = Image.open(os.path.join(DATASET_PATH, 'unperturbed_data', 'good_hexaboard.png'))\n",
    "\n",
    "# Get the height and width of the image\n",
    "width, height = image.size\n",
    "print('Image width:', width)\n",
    "print('Image height:', height)"
   ]
  },
  {
   "cell_type": "code",
   "execution_count": null,
   "metadata": {},
   "outputs": [],
   "source": [
    "# Adjust the number of segments\n",
    "# THIS SHOULD WORK WITH THE GUI\n",
    "NUM_VERTICAL_SEGMENTS = 20\n",
    "NUM_HORIZONTAL_SEGMENTS = 12\n",
    "\n",
    "# Define the transformations\n",
    "transform = transforms.Compose([\n",
    "    RotationAndSegmentationTransform(\n",
    "        height=height,\n",
    "        width=width,\n",
    "        vertical_segments=NUM_VERTICAL_SEGMENTS,\n",
    "        horizontal_segments=NUM_HORIZONTAL_SEGMENTS\n",
    "    ),\n",
    "    transforms.RandomRotation(degrees=2),\n",
    "    transforms.RandomHorizontalFlip(),\n",
    "    transforms.RandomVerticalFlip(),\n",
    "])\n",
    "\n",
    "# Read in and process the iamges\n",
    "train_dataset = HexaboardDataset(\n",
    "    image_dir=os.path.join(DATASET_PATH, 'unperturbed_data'),\n",
    "    transform=transform\n",
    ")\n",
    "\n",
    "val_dataset = HexaboardDataset(\n",
    "    image_dir=os.path.join(DATASET_PATH, 'perturbed_data'),\n",
    "    transform=transform\n",
    ")\n",
    "\n",
    "# Set the batch and chunk size\n",
    "batch_size = 1\n",
    "chunk_size = 12\n",
    "\n",
    "# Create data loaders\n",
    "train_loader = DataLoader(train_dataset, batch_size=batch_size, shuffle=True, drop_last=True)\n",
    "val_loader = DataLoader(val_dataset, batch_size=batch_size, shuffle=False, drop_last=True)\n",
    "# test_loader = DataLoader(test_dataset, batch_size=batch_size, shuffle=False, drop_last=True)\n",
    "\n",
    "# Print some information about the data\n",
    "print(f'Train dataset size: {len(train_dataset)}')\n",
    "print(f'Validation dataset size: {len(val_dataset)}')\n",
    "# print(f'Test dataset size: {len(test_dataset)}')\n",
    "print(f'Segments Shape: {train_dataset[0].shape}')\n",
    "print(f'Image shape: {train_dataset[0][0].shape}')\n",
    "print(f'Image tensor type: {train_dataset[0][0].dtype}')\n",
    "print(f'Batches: {len(train_loader)}')"
   ]
  },
  {
   "cell_type": "code",
   "execution_count": null,
   "metadata": {},
   "outputs": [],
   "source": [
    "# Get the segments' height and width\n",
    "segment_height = train_dataset[0][0][0].shape[0]\n",
    "segment_width = train_dataset[0][0][0].shape[1]\n",
    "print('Segment height:', segment_height)\n",
    "print('Segment width:', segment_width)"
   ]
  },
  {
   "cell_type": "code",
   "execution_count": null,
   "metadata": {},
   "outputs": [],
   "source": [
    "# Initialize the model\n",
    "cnn_ae = ConvAutoEncoder(\n",
    "    height=segment_height,\n",
    "    width=segment_width,\n",
    "    latent_dim=128,\n",
    "    kernel_sizes=[32, 64]\n",
    ")\n",
    "cnn_ae.to(device)"
   ]
  },
  {
   "cell_type": "code",
   "execution_count": null,
   "metadata": {},
   "outputs": [],
   "source": [
    "optimizer = optim.Adam(cnn_ae.parameters(), lr=1e-3)\n",
    "scheduler = optim.lr_scheduler.ExponentialLR(optimizer, gamma=0.95)\n",
    "criterion = nn.BCEWithLogitsLoss()\n",
    "\n",
    "# Train the model\n",
    "history, cnn_ae = train_autoencoder(\n",
    "    model=cnn_ae,\n",
    "    criterion=criterion,\n",
    "    optimizer=optimizer,\n",
    "    train_loader=train_loader,\n",
    "    val_loader=val_loader,\n",
    "    scheduler=scheduler,\n",
    "    num_epochs=20,\n",
    "    save_path='small_ae.pt'\n",
    ")"
   ]
  },
  {
   "cell_type": "code",
   "execution_count": null,
   "metadata": {},
   "outputs": [],
   "source": [
    "# View the training progress\n",
    "plot_metrics(history)"
   ]
  },
  {
   "cell_type": "code",
   "execution_count": null,
   "metadata": {},
   "outputs": [],
   "source": [
    "# Load the model's weights\n",
    "cnn_ae.load_state_dict(torch.load('small_ae.pt', map_location=device))"
   ]
  },
  {
   "cell_type": "code",
   "execution_count": null,
   "metadata": {},
   "outputs": [],
   "source": [
    "# # Evaluate the model\n",
    "# evaluate_autoencoder(\n",
    "#     model=cnn_ae,\n",
    "#     criterion=criterion,\n",
    "#     test_loader=test_loader,\n",
    "#     num_images=10,\n",
    "#     chunk_size=chunk_size,\n",
    "#     visualize=True\n",
    "# )"
   ]
  }
 ],
 "metadata": {
  "kernelspec": {
   "display_name": "python311",
   "language": "python",
   "name": "python3"
  },
  "language_info": {
   "codemirror_mode": {
    "name": "ipython",
    "version": 3
   },
   "file_extension": ".py",
   "mimetype": "text/x-python",
   "name": "python",
   "nbconvert_exporter": "python",
   "pygments_lexer": "ipython3",
   "version": "3.12.1"
  }
 },
 "nbformat": 4,
 "nbformat_minor": 2
}

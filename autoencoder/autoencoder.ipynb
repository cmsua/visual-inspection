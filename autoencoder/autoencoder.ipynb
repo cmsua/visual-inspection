{
 "cells": [
  {
   "cell_type": "code",
   "execution_count": null,
   "metadata": {
    "colab": {
     "base_uri": "https://localhost:8080/"
    },
    "id": "7vl_-PJ6McLR",
    "outputId": "b3d0504a-1bce-4b2a-90d7-7928e8177da8"
   },
   "outputs": [],
   "source": [
    "# from google.colab import drive\n",
    "# drive.mount('/content/drive')"
   ]
  },
  {
   "cell_type": "code",
   "execution_count": null,
   "metadata": {
    "colab": {
     "base_uri": "https://localhost:8080/"
    },
    "id": "dPsqcSPzMbFW",
    "outputId": "e214a2f1-197a-4581-8fcf-0b9bd15678b2"
   },
   "outputs": [],
   "source": [
    "# Import necessary libraries\n",
    "import os\n",
    "import sys\n",
    "\n",
    "from PIL import Image\n",
    "import torch\n",
    "import torch.nn as nn\n",
    "from torch.utils.data import DataLoader\n",
    "from torchvision import transforms\n",
    "\n",
    "# Directory path used in Google Colab\n",
    "# project_dir = '/content/drive/MyDrive/Colab Notebooks/HGCAL/visual-inspection'\n",
    "\n",
    "# Directory path used in local\n",
    "project_dir = '../'\n",
    "\n",
    "current_dir = os.path.join(project_dir, 'autoencoder')\n",
    "sys.path.append(current_dir)\n",
    "\n",
    "from data_loading import *\n",
    "from training import *\n",
    "\n",
    "# Set the seed\n",
    "torch.manual_seed(42)\n",
    "\n",
    "# Ensure that all operations are deterministic on GPU (if used) for reproducibility\n",
    "torch.backends.cudnn.deterministic = True\n",
    "torch.backends.cudnn.benchmark = False\n",
    "\n",
    "# Path to the datasets folder\n",
    "DATASET_PATH = os.path.join(project_dir, 'datasets')\n",
    "CHECKPOINT_PATH = os.path.join(current_dir, 'small_ae.pt')\n",
    "\n",
    "device = torch.device('cuda' if torch.cuda.is_available() else 'cpu')\n",
    "device\n",
    "print(CHECKPOINT_PATH)"
   ]
  },
  {
   "cell_type": "code",
   "execution_count": null,
   "metadata": {
    "colab": {
     "base_uri": "https://localhost:8080/"
    },
    "id": "LwiuTQ1SMbFe",
    "outputId": "44c78601-252f-44f8-f7c7-e5c1dafcaed7"
   },
   "outputs": [],
   "source": [
    "# Read in the image\n",
    "image = Image.open(os.path.join(DATASET_PATH, 'unperturbed_data', 'good_hexaboard.png'))\n",
    "\n",
    "# Get the height and width of the image\n",
    "width, height = image.size\n",
    "print('Image width:', width)\n",
    "print('Image height:', height)"
   ]
  },
  {
   "cell_type": "code",
   "execution_count": null,
   "metadata": {
    "colab": {
     "base_uri": "https://localhost:8080/"
    },
    "id": "XCc4sQSsMbFf",
    "outputId": "07153b9e-5c8e-4369-be6f-431e0573d621"
   },
   "outputs": [],
   "source": [
    "# Adjust the number of segments\n",
    "# THIS SHOULD WORK WITH THE GUI\n",
    "NUM_VERTICAL_SEGMENTS = 20\n",
    "NUM_HORIZONTAL_SEGMENTS = 12\n",
    "\n",
    "# Define the transformations\n",
    "transform = transforms.Compose([\n",
    "    RotationAndSegmentationTransform(\n",
    "        height=height,\n",
    "        width=width,\n",
    "        vertical_segments=NUM_VERTICAL_SEGMENTS,\n",
    "        horizontal_segments=NUM_HORIZONTAL_SEGMENTS\n",
    "    ),\n",
    "    transforms.RandomRotation(degrees=2),\n",
    "    transforms.RandomHorizontalFlip(),\n",
    "    transforms.RandomVerticalFlip(),\n",
    "])\n",
    "\n",
    "# Read in and process the iamges\n",
    "train_dataset = HexaboardDataset(\n",
    "    image_dir=os.path.join(DATASET_PATH, 'unperturbed_data'),\n",
    "    transform=transform\n",
    ")\n",
    "\n",
    "val_dataset = HexaboardDataset(\n",
    "    image_dir=os.path.join(DATASET_PATH, 'perturbed_data'),\n",
    "    transform=transform\n",
    ")\n",
    "\n",
    "# Set the batch and chunk size\n",
    "batch_size = 1\n",
    "chunk_size = 12\n",
    "\n",
    "# Create data loaders\n",
    "train_loader = DataLoader(train_dataset, batch_size=batch_size, shuffle=True, drop_last=True)\n",
    "val_loader = DataLoader(val_dataset, batch_size=batch_size, shuffle=False, drop_last=True)\n",
    "# test_loader = DataLoader(test_dataset, batch_size=batch_size, shuffle=False, drop_last=True)\n",
    "\n",
    "# Print some information about the data\n",
    "print(f'Train dataset size: {len(train_dataset)}')\n",
    "print(f'Validation dataset size: {len(val_dataset)}')\n",
    "# print(f'Test dataset size: {len(test_dataset)}')\n",
    "print(f'Segments Shape: {train_dataset[0].shape}')\n",
    "print(f'Image shape: {train_dataset[0][0].shape}')\n",
    "print(f'Image tensor type: {train_dataset[0][0].dtype}')\n",
    "print(f'Batches: {len(train_loader)}')"
   ]
  },
  {
   "cell_type": "code",
   "execution_count": null,
   "metadata": {
    "colab": {
     "base_uri": "https://localhost:8080/"
    },
    "id": "6zwRQSJxMbFg",
    "outputId": "1acfa492-6fed-4402-96f2-4687411b8825"
   },
   "outputs": [],
   "source": [
    "# Get the segments' height and width\n",
    "segment_height = train_dataset[0][0][0].shape[0]\n",
    "segment_width = train_dataset[0][0][0].shape[1]\n",
    "print('Segment height:', segment_height)\n",
    "print('Segment width:', segment_width)"
   ]
  },
  {
   "cell_type": "code",
   "execution_count": null,
   "metadata": {
    "colab": {
     "base_uri": "https://localhost:8080/"
    },
    "id": "VbT42bpBMbFh",
    "outputId": "cd68ab6e-6769-4ddc-a932-0f629955410d"
   },
   "outputs": [],
   "source": [
    "# Initialize the model\n",
    "cnn_ae = ConvAutoEncoder(\n",
    "    height=segment_height,\n",
    "    width=segment_width,\n",
    "    latent_dim=128,\n",
    "    kernel_sizes=[32, 64]\n",
    ")\n",
    "cnn_ae.to(device)"
   ]
  },
  {
   "cell_type": "code",
   "execution_count": null,
   "metadata": {
    "colab": {
     "base_uri": "https://localhost:8080/",
     "height": 388,
     "referenced_widgets": [
      "a3933af6ec234bcbb2af2bd92ec0e6f7",
      "63d391e67f2c4d5788c8122bf716b501",
      "9e97818de46247e7be48231ab8eb7b85",
      "4cd824b276cf4a3fb867d532304d63c4",
      "9adbe359083e43648de20ac4abdb3c7c",
      "219ee9d62c6d4898aae8d1a2764fdbed",
      "09bbc56848f34a37a0cc81db63e0132c",
      "20993ae31ad74e908bf566b6aa60bfe8",
      "88ef2eee6b9d4687b30d838da5849771",
      "cc648dd0fd13491ca24850341929ddaa",
      "d9a689c093474c818fa719f0321a2548"
     ]
    },
    "id": "PqMjQK8MMbFh",
    "outputId": "275b54ef-5e7c-4ad8-94fa-f14ffd2aee26"
   },
   "outputs": [],
   "source": [
    "optimizer = optim.Adam(cnn_ae.parameters(), lr=1e-3)\n",
    "scheduler = optim.lr_scheduler.ExponentialLR(optimizer, gamma=0.95)\n",
    "criterion = nn.BCEWithLogitsLoss()\n",
    "\n",
    "# Train the model\n",
    "history, cnn_ae = train_autoencoder(\n",
    "    model=cnn_ae,\n",
    "    criterion=criterion,\n",
    "    optimizer=optimizer,\n",
    "    train_loader=train_loader,\n",
    "    val_loader=val_loader,\n",
    "    scheduler=scheduler,\n",
    "    num_epochs=20,\n",
    "    save_path=CHECKPOINT_PATH\n",
    ")"
   ]
  },
  {
   "cell_type": "code",
   "execution_count": null,
   "metadata": {
    "id": "kvjW_YuUMbFi"
   },
   "outputs": [],
   "source": [
    "# View the training progress\n",
    "plot_metrics(history)"
   ]
  },
  {
   "cell_type": "code",
   "execution_count": null,
   "metadata": {
    "id": "l5l1N0n8MbFi"
   },
   "outputs": [],
   "source": [
    "# Load the model's weights\n",
    "cnn_ae.load_state_dict(torch.load(CHECKPOINT_PATH, map_location=device))"
   ]
  },
  {
   "cell_type": "code",
   "execution_count": null,
   "metadata": {
    "id": "loDhO7QqMbFk"
   },
   "outputs": [],
   "source": [
    "# # Evaluate the model\n",
    "# evaluate_autoencoder(\n",
    "#     model=cnn_ae,\n",
    "#     criterion=criterion,\n",
    "#     test_loader=test_loader,\n",
    "#     num_images=10,\n",
    "#     chunk_size=chunk_size,\n",
    "#     visualize=True\n",
    "# )"
   ]
  }
 ],
 "metadata": {
  "accelerator": "GPU",
  "colab": {
   "gpuType": "L4",
   "provenance": []
  },
  "kernelspec": {
   "display_name": "Python 3",
   "name": "python3"
  },
  "language_info": {
   "codemirror_mode": {
    "name": "ipython",
    "version": 3
   },
   "file_extension": ".py",
   "mimetype": "text/x-python",
   "name": "python",
   "nbconvert_exporter": "python",
   "pygments_lexer": "ipython3",
   "version": "3.11.9"
  }
 },
 "nbformat": 4,
 "nbformat_minor": 0
}
